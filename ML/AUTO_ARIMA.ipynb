{
  "nbformat": 4,
  "nbformat_minor": 0,
  "metadata": {
    "colab": {
      "name": "AUTO_ARIMA.ipynb",
      "provenance": [],
      "collapsed_sections": []
    },
    "kernelspec": {
      "name": "python3",
      "display_name": "Python 3"
    },
    "language_info": {
      "name": "python"
    }
  },
  "cells": [
    {
      "cell_type": "markdown",
      "source": [
        "## Auto-Arima Model Prediction of Stocks (Closing Price)"
      ],
      "metadata": {
        "id": "jh_D4rMTGo0U"
      }
    },
    {
      "cell_type": "code",
      "execution_count": 1,
      "metadata": {
        "colab": {
          "base_uri": "https://localhost:8080/"
        },
        "id": "YPlY_ppBBj2w",
        "outputId": "ac61e4b0-0ecd-4c95-d77b-a2cd38e59af0",
        "collapsed": true
      },
      "outputs": [
        {
          "output_type": "stream",
          "name": "stdout",
          "text": [
            "Collecting pmdarima\n",
            "  Downloading pmdarima-1.8.5-cp37-cp37m-manylinux_2_17_x86_64.manylinux2014_x86_64.manylinux_2_24_x86_64.whl (1.4 MB)\n",
            "\u001b[?25l\r\u001b[K     |▎                               | 10 kB 15.6 MB/s eta 0:00:01\r\u001b[K     |▌                               | 20 kB 21.1 MB/s eta 0:00:01\r\u001b[K     |▊                               | 30 kB 19.9 MB/s eta 0:00:01\r\u001b[K     |█                               | 40 kB 11.1 MB/s eta 0:00:01\r\u001b[K     |█▏                              | 51 kB 6.2 MB/s eta 0:00:01\r\u001b[K     |█▍                              | 61 kB 7.3 MB/s eta 0:00:01\r\u001b[K     |█▋                              | 71 kB 7.9 MB/s eta 0:00:01\r\u001b[K     |██                              | 81 kB 7.0 MB/s eta 0:00:01\r\u001b[K     |██▏                             | 92 kB 7.7 MB/s eta 0:00:01\r\u001b[K     |██▍                             | 102 kB 8.5 MB/s eta 0:00:01\r\u001b[K     |██▋                             | 112 kB 8.5 MB/s eta 0:00:01\r\u001b[K     |██▉                             | 122 kB 8.5 MB/s eta 0:00:01\r\u001b[K     |███                             | 133 kB 8.5 MB/s eta 0:00:01\r\u001b[K     |███▎                            | 143 kB 8.5 MB/s eta 0:00:01\r\u001b[K     |███▌                            | 153 kB 8.5 MB/s eta 0:00:01\r\u001b[K     |███▉                            | 163 kB 8.5 MB/s eta 0:00:01\r\u001b[K     |████                            | 174 kB 8.5 MB/s eta 0:00:01\r\u001b[K     |████▎                           | 184 kB 8.5 MB/s eta 0:00:01\r\u001b[K     |████▌                           | 194 kB 8.5 MB/s eta 0:00:01\r\u001b[K     |████▊                           | 204 kB 8.5 MB/s eta 0:00:01\r\u001b[K     |█████                           | 215 kB 8.5 MB/s eta 0:00:01\r\u001b[K     |█████▏                          | 225 kB 8.5 MB/s eta 0:00:01\r\u001b[K     |█████▍                          | 235 kB 8.5 MB/s eta 0:00:01\r\u001b[K     |█████▊                          | 245 kB 8.5 MB/s eta 0:00:01\r\u001b[K     |██████                          | 256 kB 8.5 MB/s eta 0:00:01\r\u001b[K     |██████▏                         | 266 kB 8.5 MB/s eta 0:00:01\r\u001b[K     |██████▍                         | 276 kB 8.5 MB/s eta 0:00:01\r\u001b[K     |██████▋                         | 286 kB 8.5 MB/s eta 0:00:01\r\u001b[K     |██████▉                         | 296 kB 8.5 MB/s eta 0:00:01\r\u001b[K     |███████                         | 307 kB 8.5 MB/s eta 0:00:01\r\u001b[K     |███████▎                        | 317 kB 8.5 MB/s eta 0:00:01\r\u001b[K     |███████▋                        | 327 kB 8.5 MB/s eta 0:00:01\r\u001b[K     |███████▉                        | 337 kB 8.5 MB/s eta 0:00:01\r\u001b[K     |████████                        | 348 kB 8.5 MB/s eta 0:00:01\r\u001b[K     |████████▎                       | 358 kB 8.5 MB/s eta 0:00:01\r\u001b[K     |████████▌                       | 368 kB 8.5 MB/s eta 0:00:01\r\u001b[K     |████████▊                       | 378 kB 8.5 MB/s eta 0:00:01\r\u001b[K     |█████████                       | 389 kB 8.5 MB/s eta 0:00:01\r\u001b[K     |█████████▎                      | 399 kB 8.5 MB/s eta 0:00:01\r\u001b[K     |█████████▌                      | 409 kB 8.5 MB/s eta 0:00:01\r\u001b[K     |█████████▊                      | 419 kB 8.5 MB/s eta 0:00:01\r\u001b[K     |██████████                      | 430 kB 8.5 MB/s eta 0:00:01\r\u001b[K     |██████████▏                     | 440 kB 8.5 MB/s eta 0:00:01\r\u001b[K     |██████████▍                     | 450 kB 8.5 MB/s eta 0:00:01\r\u001b[K     |██████████▋                     | 460 kB 8.5 MB/s eta 0:00:01\r\u001b[K     |██████████▉                     | 471 kB 8.5 MB/s eta 0:00:01\r\u001b[K     |███████████▏                    | 481 kB 8.5 MB/s eta 0:00:01\r\u001b[K     |███████████▍                    | 491 kB 8.5 MB/s eta 0:00:01\r\u001b[K     |███████████▋                    | 501 kB 8.5 MB/s eta 0:00:01\r\u001b[K     |███████████▉                    | 512 kB 8.5 MB/s eta 0:00:01\r\u001b[K     |████████████                    | 522 kB 8.5 MB/s eta 0:00:01\r\u001b[K     |████████████▎                   | 532 kB 8.5 MB/s eta 0:00:01\r\u001b[K     |████████████▌                   | 542 kB 8.5 MB/s eta 0:00:01\r\u001b[K     |████████████▊                   | 552 kB 8.5 MB/s eta 0:00:01\r\u001b[K     |█████████████                   | 563 kB 8.5 MB/s eta 0:00:01\r\u001b[K     |█████████████▎                  | 573 kB 8.5 MB/s eta 0:00:01\r\u001b[K     |█████████████▌                  | 583 kB 8.5 MB/s eta 0:00:01\r\u001b[K     |█████████████▊                  | 593 kB 8.5 MB/s eta 0:00:01\r\u001b[K     |██████████████                  | 604 kB 8.5 MB/s eta 0:00:01\r\u001b[K     |██████████████▏                 | 614 kB 8.5 MB/s eta 0:00:01\r\u001b[K     |██████████████▍                 | 624 kB 8.5 MB/s eta 0:00:01\r\u001b[K     |██████████████▋                 | 634 kB 8.5 MB/s eta 0:00:01\r\u001b[K     |███████████████                 | 645 kB 8.5 MB/s eta 0:00:01\r\u001b[K     |███████████████▏                | 655 kB 8.5 MB/s eta 0:00:01\r\u001b[K     |███████████████▍                | 665 kB 8.5 MB/s eta 0:00:01\r\u001b[K     |███████████████▋                | 675 kB 8.5 MB/s eta 0:00:01\r\u001b[K     |███████████████▉                | 686 kB 8.5 MB/s eta 0:00:01\r\u001b[K     |████████████████                | 696 kB 8.5 MB/s eta 0:00:01\r\u001b[K     |████████████████▎               | 706 kB 8.5 MB/s eta 0:00:01\r\u001b[K     |████████████████▋               | 716 kB 8.5 MB/s eta 0:00:01\r\u001b[K     |████████████████▉               | 727 kB 8.5 MB/s eta 0:00:01\r\u001b[K     |█████████████████               | 737 kB 8.5 MB/s eta 0:00:01\r\u001b[K     |█████████████████▎              | 747 kB 8.5 MB/s eta 0:00:01\r\u001b[K     |█████████████████▌              | 757 kB 8.5 MB/s eta 0:00:01\r\u001b[K     |█████████████████▊              | 768 kB 8.5 MB/s eta 0:00:01\r\u001b[K     |██████████████████              | 778 kB 8.5 MB/s eta 0:00:01\r\u001b[K     |██████████████████▏             | 788 kB 8.5 MB/s eta 0:00:01\r\u001b[K     |██████████████████▌             | 798 kB 8.5 MB/s eta 0:00:01\r\u001b[K     |██████████████████▊             | 808 kB 8.5 MB/s eta 0:00:01\r\u001b[K     |███████████████████             | 819 kB 8.5 MB/s eta 0:00:01\r\u001b[K     |███████████████████▏            | 829 kB 8.5 MB/s eta 0:00:01\r\u001b[K     |███████████████████▍            | 839 kB 8.5 MB/s eta 0:00:01\r\u001b[K     |███████████████████▋            | 849 kB 8.5 MB/s eta 0:00:01\r\u001b[K     |███████████████████▉            | 860 kB 8.5 MB/s eta 0:00:01\r\u001b[K     |████████████████████            | 870 kB 8.5 MB/s eta 0:00:01\r\u001b[K     |████████████████████▍           | 880 kB 8.5 MB/s eta 0:00:01\r\u001b[K     |████████████████████▋           | 890 kB 8.5 MB/s eta 0:00:01\r\u001b[K     |████████████████████▉           | 901 kB 8.5 MB/s eta 0:00:01\r\u001b[K     |█████████████████████           | 911 kB 8.5 MB/s eta 0:00:01\r\u001b[K     |█████████████████████▎          | 921 kB 8.5 MB/s eta 0:00:01\r\u001b[K     |█████████████████████▌          | 931 kB 8.5 MB/s eta 0:00:01\r\u001b[K     |█████████████████████▊          | 942 kB 8.5 MB/s eta 0:00:01\r\u001b[K     |██████████████████████          | 952 kB 8.5 MB/s eta 0:00:01\r\u001b[K     |██████████████████████▎         | 962 kB 8.5 MB/s eta 0:00:01\r\u001b[K     |██████████████████████▌         | 972 kB 8.5 MB/s eta 0:00:01\r\u001b[K     |██████████████████████▊         | 983 kB 8.5 MB/s eta 0:00:01\r\u001b[K     |███████████████████████         | 993 kB 8.5 MB/s eta 0:00:01\r\u001b[K     |███████████████████████▏        | 1.0 MB 8.5 MB/s eta 0:00:01\r\u001b[K     |███████████████████████▍        | 1.0 MB 8.5 MB/s eta 0:00:01\r\u001b[K     |███████████████████████▋        | 1.0 MB 8.5 MB/s eta 0:00:01\r\u001b[K     |████████████████████████        | 1.0 MB 8.5 MB/s eta 0:00:01\r\u001b[K     |████████████████████████▏       | 1.0 MB 8.5 MB/s eta 0:00:01\r\u001b[K     |████████████████████████▍       | 1.1 MB 8.5 MB/s eta 0:00:01\r\u001b[K     |████████████████████████▋       | 1.1 MB 8.5 MB/s eta 0:00:01\r\u001b[K     |████████████████████████▉       | 1.1 MB 8.5 MB/s eta 0:00:01\r\u001b[K     |█████████████████████████       | 1.1 MB 8.5 MB/s eta 0:00:01\r\u001b[K     |█████████████████████████▎      | 1.1 MB 8.5 MB/s eta 0:00:01\r\u001b[K     |█████████████████████████▌      | 1.1 MB 8.5 MB/s eta 0:00:01\r\u001b[K     |█████████████████████████▉      | 1.1 MB 8.5 MB/s eta 0:00:01\r\u001b[K     |██████████████████████████      | 1.1 MB 8.5 MB/s eta 0:00:01\r\u001b[K     |██████████████████████████▎     | 1.1 MB 8.5 MB/s eta 0:00:01\r\u001b[K     |██████████████████████████▌     | 1.1 MB 8.5 MB/s eta 0:00:01\r\u001b[K     |██████████████████████████▊     | 1.2 MB 8.5 MB/s eta 0:00:01\r\u001b[K     |███████████████████████████     | 1.2 MB 8.5 MB/s eta 0:00:01\r\u001b[K     |███████████████████████████▏    | 1.2 MB 8.5 MB/s eta 0:00:01\r\u001b[K     |███████████████████████████▍    | 1.2 MB 8.5 MB/s eta 0:00:01\r\u001b[K     |███████████████████████████▊    | 1.2 MB 8.5 MB/s eta 0:00:01\r\u001b[K     |████████████████████████████    | 1.2 MB 8.5 MB/s eta 0:00:01\r\u001b[K     |████████████████████████████▏   | 1.2 MB 8.5 MB/s eta 0:00:01\r\u001b[K     |████████████████████████████▍   | 1.2 MB 8.5 MB/s eta 0:00:01\r\u001b[K     |████████████████████████████▋   | 1.2 MB 8.5 MB/s eta 0:00:01\r\u001b[K     |████████████████████████████▉   | 1.2 MB 8.5 MB/s eta 0:00:01\r\u001b[K     |█████████████████████████████   | 1.3 MB 8.5 MB/s eta 0:00:01\r\u001b[K     |█████████████████████████████▎  | 1.3 MB 8.5 MB/s eta 0:00:01\r\u001b[K     |█████████████████████████████▋  | 1.3 MB 8.5 MB/s eta 0:00:01\r\u001b[K     |█████████████████████████████▉  | 1.3 MB 8.5 MB/s eta 0:00:01\r\u001b[K     |██████████████████████████████  | 1.3 MB 8.5 MB/s eta 0:00:01\r\u001b[K     |██████████████████████████████▎ | 1.3 MB 8.5 MB/s eta 0:00:01\r\u001b[K     |██████████████████████████████▌ | 1.3 MB 8.5 MB/s eta 0:00:01\r\u001b[K     |██████████████████████████████▊ | 1.3 MB 8.5 MB/s eta 0:00:01\r\u001b[K     |███████████████████████████████ | 1.3 MB 8.5 MB/s eta 0:00:01\r\u001b[K     |███████████████████████████████▎| 1.4 MB 8.5 MB/s eta 0:00:01\r\u001b[K     |███████████████████████████████▌| 1.4 MB 8.5 MB/s eta 0:00:01\r\u001b[K     |███████████████████████████████▊| 1.4 MB 8.5 MB/s eta 0:00:01\r\u001b[K     |████████████████████████████████| 1.4 MB 8.5 MB/s eta 0:00:01\r\u001b[K     |████████████████████████████████| 1.4 MB 8.5 MB/s \n",
            "\u001b[?25hRequirement already satisfied: urllib3 in /usr/local/lib/python3.7/dist-packages (from pmdarima) (1.24.3)\n",
            "Requirement already satisfied: Cython!=0.29.18,>=0.29 in /usr/local/lib/python3.7/dist-packages (from pmdarima) (0.29.28)\n",
            "Requirement already satisfied: numpy>=1.19.3 in /usr/local/lib/python3.7/dist-packages (from pmdarima) (1.21.5)\n",
            "Requirement already satisfied: pandas>=0.19 in /usr/local/lib/python3.7/dist-packages (from pmdarima) (1.3.5)\n",
            "Collecting statsmodels!=0.12.0,>=0.11\n",
            "  Downloading statsmodels-0.13.2-cp37-cp37m-manylinux_2_17_x86_64.manylinux2014_x86_64.whl (9.8 MB)\n",
            "\u001b[K     |████████████████████████████████| 9.8 MB 34.2 MB/s \n",
            "\u001b[?25hRequirement already satisfied: scikit-learn>=0.22 in /usr/local/lib/python3.7/dist-packages (from pmdarima) (1.0.2)\n",
            "Requirement already satisfied: setuptools!=50.0.0,>=38.6.0 in /usr/local/lib/python3.7/dist-packages (from pmdarima) (57.4.0)\n",
            "Requirement already satisfied: joblib>=0.11 in /usr/local/lib/python3.7/dist-packages (from pmdarima) (1.1.0)\n",
            "Requirement already satisfied: scipy>=1.3.2 in /usr/local/lib/python3.7/dist-packages (from pmdarima) (1.4.1)\n",
            "Requirement already satisfied: pytz>=2017.3 in /usr/local/lib/python3.7/dist-packages (from pandas>=0.19->pmdarima) (2018.9)\n",
            "Requirement already satisfied: python-dateutil>=2.7.3 in /usr/local/lib/python3.7/dist-packages (from pandas>=0.19->pmdarima) (2.8.2)\n",
            "Requirement already satisfied: six>=1.5 in /usr/local/lib/python3.7/dist-packages (from python-dateutil>=2.7.3->pandas>=0.19->pmdarima) (1.15.0)\n",
            "Requirement already satisfied: threadpoolctl>=2.0.0 in /usr/local/lib/python3.7/dist-packages (from scikit-learn>=0.22->pmdarima) (3.1.0)\n",
            "Requirement already satisfied: patsy>=0.5.2 in /usr/local/lib/python3.7/dist-packages (from statsmodels!=0.12.0,>=0.11->pmdarima) (0.5.2)\n",
            "Requirement already satisfied: packaging>=21.3 in /usr/local/lib/python3.7/dist-packages (from statsmodels!=0.12.0,>=0.11->pmdarima) (21.3)\n",
            "Requirement already satisfied: pyparsing!=3.0.5,>=2.0.2 in /usr/local/lib/python3.7/dist-packages (from packaging>=21.3->statsmodels!=0.12.0,>=0.11->pmdarima) (3.0.7)\n",
            "Installing collected packages: statsmodels, pmdarima\n",
            "  Attempting uninstall: statsmodels\n",
            "    Found existing installation: statsmodels 0.10.2\n",
            "    Uninstalling statsmodels-0.10.2:\n",
            "      Successfully uninstalled statsmodels-0.10.2\n",
            "Successfully installed pmdarima-1.8.5 statsmodels-0.13.2\n"
          ]
        }
      ],
      "source": [
        "!pip install pmdarima"
      ]
    },
    {
      "cell_type": "code",
      "source": [
        "import pandas as pd\n",
        "import numpy as np\n"
      ],
      "metadata": {
        "id": "u8f_2Pf5GoQY"
      },
      "execution_count": 2,
      "outputs": []
    },
    {
      "cell_type": "code",
      "source": [
        "from google.colab import files\n",
        "uploaded = files.upload()"
      ],
      "metadata": {
        "colab": {
          "resources": {
            "http://localhost:8080/nbextensions/google.colab/files.js": {
              "data": "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",
              "ok": true,
              "headers": [
                [
                  "content-type",
                  "application/javascript"
                ]
              ],
              "status": 200,
              "status_text": ""
            }
          },
          "base_uri": "https://localhost:8080/",
          "height": 74
        },
        "id": "lXCeeftuHObC",
        "outputId": "a4fb13db-d56e-4437-d1d0-58f1b677bac4"
      },
      "execution_count": 3,
      "outputs": [
        {
          "output_type": "display_data",
          "data": {
            "text/html": [
              "\n",
              "     <input type=\"file\" id=\"files-7f95f7a5-76ae-4b9e-892f-f976eda270bb\" name=\"files[]\" multiple disabled\n",
              "        style=\"border:none\" />\n",
              "     <output id=\"result-7f95f7a5-76ae-4b9e-892f-f976eda270bb\">\n",
              "      Upload widget is only available when the cell has been executed in the\n",
              "      current browser session. Please rerun this cell to enable.\n",
              "      </output>\n",
              "      <script src=\"/nbextensions/google.colab/files.js\"></script> "
            ],
            "text/plain": [
              "<IPython.core.display.HTML object>"
            ]
          },
          "metadata": {}
        },
        {
          "output_type": "stream",
          "name": "stdout",
          "text": [
            "Saving Quote-Equity-NTPC-EQ-01-01-2020-to-01-01-2022.csv to Quote-Equity-NTPC-EQ-01-01-2020-to-01-01-2022.csv\n"
          ]
        }
      ]
    },
    {
      "cell_type": "code",
      "source": [
        "import io\n",
        "df=pd.read_csv(io.BytesIO(uploaded['Quote-Equity-NTPC-EQ-01-01-2020-to-01-01-2022.csv']),index_col=0,parse_dates=True)\n",
        "df=df.drop(['series ', 'VOLUME ','No of trades ','VALUE '], axis=1)\n",
        "df=df.iloc[::-1]\n",
        "df=df.dropna()\n",
        "print('Shape of data',df.shape)\n",
        "df.head()\n",
        "df"
      ],
      "metadata": {
        "colab": {
          "base_uri": "https://localhost:8080/",
          "height": 472
        },
        "id": "YoUHkmD3HekC",
        "outputId": "e562b605-5f81-4535-e7bd-1d4c460e8f9a"
      },
      "execution_count": 4,
      "outputs": [
        {
          "output_type": "stream",
          "name": "stdout",
          "text": [
            "Shape of data (500, 9)\n"
          ]
        },
        {
          "output_type": "execute_result",
          "data": {
            "text/html": [
              "\n",
              "  <div id=\"df-36cdd4ca-7373-41de-91a3-d049664fdd7e\">\n",
              "    <div class=\"colab-df-container\">\n",
              "      <div>\n",
              "<style scoped>\n",
              "    .dataframe tbody tr th:only-of-type {\n",
              "        vertical-align: middle;\n",
              "    }\n",
              "\n",
              "    .dataframe tbody tr th {\n",
              "        vertical-align: top;\n",
              "    }\n",
              "\n",
              "    .dataframe thead th {\n",
              "        text-align: right;\n",
              "    }\n",
              "</style>\n",
              "<table border=\"1\" class=\"dataframe\">\n",
              "  <thead>\n",
              "    <tr style=\"text-align: right;\">\n",
              "      <th></th>\n",
              "      <th>OPEN</th>\n",
              "      <th>HIGH</th>\n",
              "      <th>LOW</th>\n",
              "      <th>PREV. CLOSE</th>\n",
              "      <th>ltp</th>\n",
              "      <th>close</th>\n",
              "      <th>vwap</th>\n",
              "      <th>52W H</th>\n",
              "      <th>52W L</th>\n",
              "    </tr>\n",
              "    <tr>\n",
              "      <th>Date</th>\n",
              "      <th></th>\n",
              "      <th></th>\n",
              "      <th></th>\n",
              "      <th></th>\n",
              "      <th></th>\n",
              "      <th></th>\n",
              "      <th></th>\n",
              "      <th></th>\n",
              "      <th></th>\n",
              "    </tr>\n",
              "  </thead>\n",
              "  <tbody>\n",
              "    <tr>\n",
              "      <th>2020-01-01</th>\n",
              "      <td>119.05</td>\n",
              "      <td>122.00</td>\n",
              "      <td>118.25</td>\n",
              "      <td>119.05</td>\n",
              "      <td>121.50</td>\n",
              "      <td>121.55</td>\n",
              "      <td>120.67</td>\n",
              "      <td>160.8</td>\n",
              "      <td>109.70</td>\n",
              "    </tr>\n",
              "    <tr>\n",
              "      <th>2020-01-02</th>\n",
              "      <td>121.50</td>\n",
              "      <td>122.15</td>\n",
              "      <td>120.60</td>\n",
              "      <td>121.55</td>\n",
              "      <td>121.00</td>\n",
              "      <td>121.40</td>\n",
              "      <td>121.54</td>\n",
              "      <td>160.8</td>\n",
              "      <td>109.70</td>\n",
              "    </tr>\n",
              "    <tr>\n",
              "      <th>2020-01-03</th>\n",
              "      <td>121.00</td>\n",
              "      <td>121.35</td>\n",
              "      <td>119.10</td>\n",
              "      <td>121.40</td>\n",
              "      <td>119.25</td>\n",
              "      <td>119.35</td>\n",
              "      <td>120.14</td>\n",
              "      <td>160.8</td>\n",
              "      <td>109.70</td>\n",
              "    </tr>\n",
              "    <tr>\n",
              "      <th>2020-01-06</th>\n",
              "      <td>119.00</td>\n",
              "      <td>119.15</td>\n",
              "      <td>116.50</td>\n",
              "      <td>119.35</td>\n",
              "      <td>118.90</td>\n",
              "      <td>118.90</td>\n",
              "      <td>118.16</td>\n",
              "      <td>160.8</td>\n",
              "      <td>109.70</td>\n",
              "    </tr>\n",
              "    <tr>\n",
              "      <th>2020-01-07</th>\n",
              "      <td>119.25</td>\n",
              "      <td>121.55</td>\n",
              "      <td>119.25</td>\n",
              "      <td>118.90</td>\n",
              "      <td>120.75</td>\n",
              "      <td>120.55</td>\n",
              "      <td>120.43</td>\n",
              "      <td>160.8</td>\n",
              "      <td>109.70</td>\n",
              "    </tr>\n",
              "    <tr>\n",
              "      <th>...</th>\n",
              "      <td>...</td>\n",
              "      <td>...</td>\n",
              "      <td>...</td>\n",
              "      <td>...</td>\n",
              "      <td>...</td>\n",
              "      <td>...</td>\n",
              "      <td>...</td>\n",
              "      <td>...</td>\n",
              "      <td>...</td>\n",
              "    </tr>\n",
              "    <tr>\n",
              "      <th>2021-12-27</th>\n",
              "      <td>121.25</td>\n",
              "      <td>122.15</td>\n",
              "      <td>120.60</td>\n",
              "      <td>121.25</td>\n",
              "      <td>121.95</td>\n",
              "      <td>121.85</td>\n",
              "      <td>121.57</td>\n",
              "      <td>152.1</td>\n",
              "      <td>88.15</td>\n",
              "    </tr>\n",
              "    <tr>\n",
              "      <th>2021-12-28</th>\n",
              "      <td>122.00</td>\n",
              "      <td>124.60</td>\n",
              "      <td>121.95</td>\n",
              "      <td>121.85</td>\n",
              "      <td>124.60</td>\n",
              "      <td>124.10</td>\n",
              "      <td>123.41</td>\n",
              "      <td>152.1</td>\n",
              "      <td>88.15</td>\n",
              "    </tr>\n",
              "    <tr>\n",
              "      <th>2021-12-29</th>\n",
              "      <td>124.60</td>\n",
              "      <td>124.75</td>\n",
              "      <td>122.20</td>\n",
              "      <td>124.10</td>\n",
              "      <td>122.60</td>\n",
              "      <td>123.15</td>\n",
              "      <td>123.59</td>\n",
              "      <td>152.1</td>\n",
              "      <td>88.15</td>\n",
              "    </tr>\n",
              "    <tr>\n",
              "      <th>2021-12-30</th>\n",
              "      <td>123.25</td>\n",
              "      <td>127.85</td>\n",
              "      <td>122.25</td>\n",
              "      <td>123.15</td>\n",
              "      <td>126.45</td>\n",
              "      <td>126.90</td>\n",
              "      <td>126.07</td>\n",
              "      <td>152.1</td>\n",
              "      <td>88.15</td>\n",
              "    </tr>\n",
              "    <tr>\n",
              "      <th>2021-12-31</th>\n",
              "      <td>126.80</td>\n",
              "      <td>126.80</td>\n",
              "      <td>124.00</td>\n",
              "      <td>126.90</td>\n",
              "      <td>124.40</td>\n",
              "      <td>124.40</td>\n",
              "      <td>124.77</td>\n",
              "      <td>152.1</td>\n",
              "      <td>88.15</td>\n",
              "    </tr>\n",
              "  </tbody>\n",
              "</table>\n",
              "<p>500 rows × 9 columns</p>\n",
              "</div>\n",
              "      <button class=\"colab-df-convert\" onclick=\"convertToInteractive('df-36cdd4ca-7373-41de-91a3-d049664fdd7e')\"\n",
              "              title=\"Convert this dataframe to an interactive table.\"\n",
              "              style=\"display:none;\">\n",
              "        \n",
              "  <svg xmlns=\"http://www.w3.org/2000/svg\" height=\"24px\"viewBox=\"0 0 24 24\"\n",
              "       width=\"24px\">\n",
              "    <path d=\"M0 0h24v24H0V0z\" fill=\"none\"/>\n",
              "    <path d=\"M18.56 5.44l.94 2.06.94-2.06 2.06-.94-2.06-.94-.94-2.06-.94 2.06-2.06.94zm-11 1L8.5 8.5l.94-2.06 2.06-.94-2.06-.94L8.5 2.5l-.94 2.06-2.06.94zm10 10l.94 2.06.94-2.06 2.06-.94-2.06-.94-.94-2.06-.94 2.06-2.06.94z\"/><path d=\"M17.41 7.96l-1.37-1.37c-.4-.4-.92-.59-1.43-.59-.52 0-1.04.2-1.43.59L10.3 9.45l-7.72 7.72c-.78.78-.78 2.05 0 2.83L4 21.41c.39.39.9.59 1.41.59.51 0 1.02-.2 1.41-.59l7.78-7.78 2.81-2.81c.8-.78.8-2.07 0-2.86zM5.41 20L4 18.59l7.72-7.72 1.47 1.35L5.41 20z\"/>\n",
              "  </svg>\n",
              "      </button>\n",
              "      \n",
              "  <style>\n",
              "    .colab-df-container {\n",
              "      display:flex;\n",
              "      flex-wrap:wrap;\n",
              "      gap: 12px;\n",
              "    }\n",
              "\n",
              "    .colab-df-convert {\n",
              "      background-color: #E8F0FE;\n",
              "      border: none;\n",
              "      border-radius: 50%;\n",
              "      cursor: pointer;\n",
              "      display: none;\n",
              "      fill: #1967D2;\n",
              "      height: 32px;\n",
              "      padding: 0 0 0 0;\n",
              "      width: 32px;\n",
              "    }\n",
              "\n",
              "    .colab-df-convert:hover {\n",
              "      background-color: #E2EBFA;\n",
              "      box-shadow: 0px 1px 2px rgba(60, 64, 67, 0.3), 0px 1px 3px 1px rgba(60, 64, 67, 0.15);\n",
              "      fill: #174EA6;\n",
              "    }\n",
              "\n",
              "    [theme=dark] .colab-df-convert {\n",
              "      background-color: #3B4455;\n",
              "      fill: #D2E3FC;\n",
              "    }\n",
              "\n",
              "    [theme=dark] .colab-df-convert:hover {\n",
              "      background-color: #434B5C;\n",
              "      box-shadow: 0px 1px 3px 1px rgba(0, 0, 0, 0.15);\n",
              "      filter: drop-shadow(0px 1px 2px rgba(0, 0, 0, 0.3));\n",
              "      fill: #FFFFFF;\n",
              "    }\n",
              "  </style>\n",
              "\n",
              "      <script>\n",
              "        const buttonEl =\n",
              "          document.querySelector('#df-36cdd4ca-7373-41de-91a3-d049664fdd7e button.colab-df-convert');\n",
              "        buttonEl.style.display =\n",
              "          google.colab.kernel.accessAllowed ? 'block' : 'none';\n",
              "\n",
              "        async function convertToInteractive(key) {\n",
              "          const element = document.querySelector('#df-36cdd4ca-7373-41de-91a3-d049664fdd7e');\n",
              "          const dataTable =\n",
              "            await google.colab.kernel.invokeFunction('convertToInteractive',\n",
              "                                                     [key], {});\n",
              "          if (!dataTable) return;\n",
              "\n",
              "          const docLinkHtml = 'Like what you see? Visit the ' +\n",
              "            '<a target=\"_blank\" href=https://colab.research.google.com/notebooks/data_table.ipynb>data table notebook</a>'\n",
              "            + ' to learn more about interactive tables.';\n",
              "          element.innerHTML = '';\n",
              "          dataTable['output_type'] = 'display_data';\n",
              "          await google.colab.output.renderOutput(dataTable, element);\n",
              "          const docLink = document.createElement('div');\n",
              "          docLink.innerHTML = docLinkHtml;\n",
              "          element.appendChild(docLink);\n",
              "        }\n",
              "      </script>\n",
              "    </div>\n",
              "  </div>\n",
              "  "
            ],
            "text/plain": [
              "             OPEN    HIGH     LOW   PREV. CLOSE     ltp   close    vwap   \\\n",
              "Date                                                                       \n",
              "2020-01-01  119.05  122.00  118.25        119.05  121.50  121.55  120.67   \n",
              "2020-01-02  121.50  122.15  120.60        121.55  121.00  121.40  121.54   \n",
              "2020-01-03  121.00  121.35  119.10        121.40  119.25  119.35  120.14   \n",
              "2020-01-06  119.00  119.15  116.50        119.35  118.90  118.90  118.16   \n",
              "2020-01-07  119.25  121.55  119.25        118.90  120.75  120.55  120.43   \n",
              "...            ...     ...     ...           ...     ...     ...     ...   \n",
              "2021-12-27  121.25  122.15  120.60        121.25  121.95  121.85  121.57   \n",
              "2021-12-28  122.00  124.60  121.95        121.85  124.60  124.10  123.41   \n",
              "2021-12-29  124.60  124.75  122.20        124.10  122.60  123.15  123.59   \n",
              "2021-12-30  123.25  127.85  122.25        123.15  126.45  126.90  126.07   \n",
              "2021-12-31  126.80  126.80  124.00        126.90  124.40  124.40  124.77   \n",
              "\n",
              "            52W H   52W L   \n",
              "Date                        \n",
              "2020-01-01   160.8  109.70  \n",
              "2020-01-02   160.8  109.70  \n",
              "2020-01-03   160.8  109.70  \n",
              "2020-01-06   160.8  109.70  \n",
              "2020-01-07   160.8  109.70  \n",
              "...            ...     ...  \n",
              "2021-12-27   152.1   88.15  \n",
              "2021-12-28   152.1   88.15  \n",
              "2021-12-29   152.1   88.15  \n",
              "2021-12-30   152.1   88.15  \n",
              "2021-12-31   152.1   88.15  \n",
              "\n",
              "[500 rows x 9 columns]"
            ]
          },
          "metadata": {},
          "execution_count": 4
        }
      ]
    },
    {
      "cell_type": "code",
      "source": [
        "df['close '].plot(figsize=(12,5))"
      ],
      "metadata": {
        "colab": {
          "base_uri": "https://localhost:8080/",
          "height": 343
        },
        "id": "qxxV-mPkHqij",
        "outputId": "6673129a-bccc-4dd8-a358-591f12a3334a"
      },
      "execution_count": 5,
      "outputs": [
        {
          "output_type": "execute_result",
          "data": {
            "text/plain": [
              "<matplotlib.axes._subplots.AxesSubplot at 0x7f5fc2f2b8d0>"
            ]
          },
          "metadata": {},
          "execution_count": 5
        },
        {
          "output_type": "display_data",
          "data": {
            "image/png": "[encoded data removed]",
            "text/plain": [
              "<Figure size 864x360 with 1 Axes>"
            ]
          },
          "metadata": {
            "needs_background": "light"
          }
        }
      ]
    },
    {
      "cell_type": "code",
      "source": [
        "# Check for Stationarity\n",
        "from statsmodels.tsa.stattools import adfuller\n",
        "def ad_test(dataset):\n",
        "     dftest = adfuller(dataset, autolag = 'AIC')\n",
        "     print(\"1. ADF : \",dftest[0])\n",
        "     print(\"2. P-Value : \", dftest[1])\n",
        "     print(\"3. Num Of Lags : \", dftest[2])\n",
        "     print(\"4. Num Of Observations Used For ADF Regression:\",      dftest[3])\n",
        "     print(\"5. Critical Values :\")\n",
        "     for key, val in dftest[4].items():\n",
        "         print(\"\\t\",key, \": \", val)\n",
        "\n"
      ],
      "metadata": {
        "id": "e9nR_PVuh0Jq"
      },
      "execution_count": 6,
      "outputs": []
    },
    {
      "cell_type": "code",
      "source": [
        "ad_test(df['close '])"
      ],
      "metadata": {
        "colab": {
          "base_uri": "https://localhost:8080/"
        },
        "id": "RQjXOgTKieCi",
        "outputId": "74415f7d-d3de-48bb-ca64-76990d04240d"
      },
      "execution_count": 7,
      "outputs": [
        {
          "output_type": "stream",
          "name": "stdout",
          "text": [
            "1. ADF :  -1.4200494932566452\n",
            "2. P-Value :  0.5726272957206263\n",
            "3. Num Of Lags :  6\n",
            "4. Num Of Observations Used For ADF Regression: 493\n",
            "5. Critical Values :\n",
            "\t 1% :  -3.4436840273842058\n",
            "\t 5% :  -2.8674204319994674\n",
            "\t 10% :  -2.5699020441557052\n"
          ]
        }
      ]
    },
    {
      "cell_type": "code",
      "source": [
        "# if(p-value<0.05)==> Stationarity is followed\n",
        "# If p< 0.05 ; Data is stationary\n",
        "# if p>0.05; Data is not stationary\n",
        "\n",
        "from pmdarima import auto_arima\n",
        "stepwise_fit = auto_arima(df['close '], trace=True, error_action='ignore', start_p=0,start_q=0,max_p=5,max_q=0,suppress_warnings=True,stepwise=False,seasonal=False)\n"
      ],
      "metadata": {
        "colab": {
          "base_uri": "https://localhost:8080/"
        },
        "id": "hyC4_DHZisnR",
        "outputId": "518ee3a1-9ef9-49bc-cb78-622ee9d85ac4"
      },
      "execution_count": 8,
      "outputs": [
        {
          "output_type": "stream",
          "name": "stdout",
          "text": [
            " ARIMA(0,1,0)(0,0,0)[0] intercept   : AIC=2185.149, Time=0.06 sec\n",
            " ARIMA(1,1,0)(0,0,0)[0] intercept   : AIC=2186.636, Time=0.05 sec\n",
            " ARIMA(2,1,0)(0,0,0)[0] intercept   : AIC=2188.631, Time=0.14 sec\n",
            " ARIMA(3,1,0)(0,0,0)[0] intercept   : AIC=2190.462, Time=0.15 sec\n",
            " ARIMA(4,1,0)(0,0,0)[0] intercept   : AIC=2191.366, Time=0.24 sec\n",
            " ARIMA(5,1,0)(0,0,0)[0] intercept   : AIC=2190.427, Time=0.28 sec\n",
            "\n",
            "Best model:  ARIMA(0,1,0)(0,0,0)[0] intercept\n",
            "Total fit time: 0.963 seconds\n"
          ]
        }
      ]
    },
    {
      "cell_type": "code",
      "source": [
        "stepwise_fit.summary()"
      ],
      "metadata": {
        "colab": {
          "base_uri": "https://localhost:8080/",
          "height": 402
        },
        "id": "LHBrulEXjNoq",
        "outputId": "a38070de-8433-4e7d-bff5-e9245d1089b4"
      },
      "execution_count": 9,
      "outputs": [
        {
          "output_type": "execute_result",
          "data": {
            "text/html": [
              "<table class=\"simpletable\">\n",
              "<caption>SARIMAX Results</caption>\n",
              "<tr>\n",
              "  <th>Dep. Variable:</th>           <td>y</td>        <th>  No. Observations:  </th>    <td>500</td>   \n",
              "</tr>\n",
              "<tr>\n",
              "  <th>Model:</th>           <td>SARIMAX(0, 1, 0)</td> <th>  Log Likelihood     </th> <td>-1090.575</td>\n",
              "</tr>\n",
              "<tr>\n",
              "  <th>Date:</th>            <td>Fri, 04 Mar 2022</td> <th>  AIC                </th> <td>2185.149</td> \n",
              "</tr>\n",
              "<tr>\n",
              "  <th>Time:</th>                <td>05:51:24</td>     <th>  BIC                </th> <td>2193.574</td> \n",
              "</tr>\n",
              "<tr>\n",
              "  <th>Sample:</th>                  <td>0</td>        <th>  HQIC               </th> <td>2188.455</td> \n",
              "</tr>\n",
              "<tr>\n",
              "  <th></th>                      <td> - 500</td>      <th>                     </th>     <td> </td>    \n",
              "</tr>\n",
              "<tr>\n",
              "  <th>Covariance Type:</th>        <td>opg</td>       <th>                     </th>     <td> </td>    \n",
              "</tr>\n",
              "</table>\n",
              "<table class=\"simpletable\">\n",
              "<tr>\n",
              "      <td></td>         <th>coef</th>     <th>std err</th>      <th>z</th>      <th>P>|z|</th>  <th>[0.025</th>    <th>0.975]</th>  \n",
              "</tr>\n",
              "<tr>\n",
              "  <th>intercept</th> <td>    0.0057</td> <td>    0.097</td> <td>    0.059</td> <td> 0.953</td> <td>   -0.184</td> <td>    0.195</td>\n",
              "</tr>\n",
              "<tr>\n",
              "  <th>sigma2</th>    <td>    4.6328</td> <td>    0.213</td> <td>   21.711</td> <td> 0.000</td> <td>    4.215</td> <td>    5.051</td>\n",
              "</tr>\n",
              "</table>\n",
              "<table class=\"simpletable\">\n",
              "<tr>\n",
              "  <th>Ljung-Box (L1) (Q):</th>     <td>0.52</td> <th>  Jarque-Bera (JB):  </th> <td>68.99</td>\n",
              "</tr>\n",
              "<tr>\n",
              "  <th>Prob(Q):</th>                <td>0.47</td> <th>  Prob(JB):          </th> <td>0.00</td> \n",
              "</tr>\n",
              "<tr>\n",
              "  <th>Heteroskedasticity (H):</th> <td>0.75</td> <th>  Skew:              </th> <td>0.14</td> \n",
              "</tr>\n",
              "<tr>\n",
              "  <th>Prob(H) (two-sided):</th>    <td>0.07</td> <th>  Kurtosis:          </th> <td>4.80</td> \n",
              "</tr>\n",
              "</table><br/><br/>Warnings:<br/>[1] Covariance matrix calculated using the outer product of gradients (complex-step)."
            ],
            "text/plain": [
              "<class 'statsmodels.iolib.summary.Summary'>\n",
              "\"\"\"\n",
              "                               SARIMAX Results                                \n",
              "==============================================================================\n",
              "Dep. Variable:                      y   No. Observations:                  500\n",
              "Model:               SARIMAX(0, 1, 0)   Log Likelihood               -1090.575\n",
              "Date:                Fri, 04 Mar 2022   AIC                           2185.149\n",
              "Time:                        05:51:24   BIC                           2193.574\n",
              "Sample:                             0   HQIC                          2188.455\n",
              "                                - 500                                         \n",
              "Covariance Type:                  opg                                         \n",
              "==============================================================================\n",
              "                 coef    std err          z      P>|z|      [0.025      0.975]\n",
              "------------------------------------------------------------------------------\n",
              "intercept      0.0057      0.097      0.059      0.953      -0.184       0.195\n",
              "sigma2         4.6328      0.213     21.711      0.000       4.215       5.051\n",
              "===================================================================================\n",
              "Ljung-Box (L1) (Q):                   0.52   Jarque-Bera (JB):                68.99\n",
              "Prob(Q):                              0.47   Prob(JB):                         0.00\n",
              "Heteroskedasticity (H):               0.75   Skew:                             0.14\n",
              "Prob(H) (two-sided):                  0.07   Kurtosis:                         4.80\n",
              "===================================================================================\n",
              "\n",
              "Warnings:\n",
              "[1] Covariance matrix calculated using the outer product of gradients (complex-step).\n",
              "\"\"\""
            ]
          },
          "metadata": {},
          "execution_count": 9
        }
      ]
    },
    {
      "cell_type": "code",
      "source": [
        "# # print(df.iloc[0:-23])\n",
        "# print(df[-23:])\n",
        "print(df.shape)\n",
        "train=df.iloc[:-23]\n",
        "test=df.iloc[-23:]\n",
        "print(train.shape,test.shape)\n",
        "print(\"Training data=\",(train.shape[0]/df.shape[0])*100)\n",
        "print(\"Testing data=\",(test.shape[0]/df.shape[0])*100)"
      ],
      "metadata": {
        "colab": {
          "base_uri": "https://localhost:8080/"
        },
        "id": "oXimN_Pck11J",
        "outputId": "e12d1760-ee06-4f5f-c337-a5510964fc54"
      },
      "execution_count": 10,
      "outputs": [
        {
          "output_type": "stream",
          "name": "stdout",
          "text": [
            "(500, 9)\n",
            "(477, 9) (23, 9)\n",
            "Training data= 95.39999999999999\n",
            "Testing data= 4.6\n"
          ]
        }
      ]
    },
    {
      "cell_type": "code",
      "source": [
        "from statsmodels.tsa.arima_model import ARIMA\n",
        "import statsmodels.tsa.arima.model as stats"
      ],
      "metadata": {
        "id": "N3W4cmU2lPM2"
      },
      "execution_count": 11,
      "outputs": []
    },
    {
      "cell_type": "code",
      "source": [
        "model = stats.ARIMA(train['close '], order=(0, 1, 0),trend=\"t\")\n",
        "model=model.fit()\n",
        "model.summary()"
      ],
      "metadata": {
        "colab": {
          "base_uri": "https://localhost:8080/",
          "height": 526
        },
        "id": "eXhC9yXXlSq1",
        "outputId": "bc8f8f17-cf0f-4214-824f-87484f01c366"
      },
      "execution_count": 12,
      "outputs": [
        {
          "output_type": "stream",
          "name": "stderr",
          "text": [
            "/usr/local/lib/python3.7/dist-packages/statsmodels/tsa/base/tsa_model.py:471: ValueWarning: A date index has been provided, but it has no associated frequency information and so will be ignored when e.g. forecasting.\n",
            "  self._init_dates(dates, freq)\n",
            "/usr/local/lib/python3.7/dist-packages/statsmodels/tsa/base/tsa_model.py:471: ValueWarning: A date index has been provided, but it has no associated frequency information and so will be ignored when e.g. forecasting.\n",
            "  self._init_dates(dates, freq)\n",
            "/usr/local/lib/python3.7/dist-packages/statsmodels/tsa/base/tsa_model.py:471: ValueWarning: A date index has been provided, but it has no associated frequency information and so will be ignored when e.g. forecasting.\n",
            "  self._init_dates(dates, freq)\n"
          ]
        },
        {
          "output_type": "execute_result",
          "data": {
            "text/html": [
              "<table class=\"simpletable\">\n",
              "<caption>SARIMAX Results</caption>\n",
              "<tr>\n",
              "  <th>Dep. Variable:</th>        <td>close </td>      <th>  No. Observations:  </th>    <td>477</td>   \n",
              "</tr>\n",
              "<tr>\n",
              "  <th>Model:</th>            <td>ARIMA(0, 1, 0)</td>  <th>  Log Likelihood     </th> <td>-1043.372</td>\n",
              "</tr>\n",
              "<tr>\n",
              "  <th>Date:</th>            <td>Fri, 04 Mar 2022</td> <th>  AIC                </th> <td>2090.744</td> \n",
              "</tr>\n",
              "<tr>\n",
              "  <th>Time:</th>                <td>05:51:24</td>     <th>  BIC                </th> <td>2099.074</td> \n",
              "</tr>\n",
              "<tr>\n",
              "  <th>Sample:</th>                  <td>0</td>        <th>  HQIC               </th> <td>2094.019</td> \n",
              "</tr>\n",
              "<tr>\n",
              "  <th></th>                      <td> - 477</td>      <th>                     </th>     <td> </td>    \n",
              "</tr>\n",
              "<tr>\n",
              "  <th>Covariance Type:</th>        <td>opg</td>       <th>                     </th>     <td> </td>    \n",
              "</tr>\n",
              "</table>\n",
              "<table class=\"simpletable\">\n",
              "<tr>\n",
              "     <td></td>       <th>coef</th>     <th>std err</th>      <th>z</th>      <th>P>|z|</th>  <th>[0.025</th>    <th>0.975]</th>  \n",
              "</tr>\n",
              "<tr>\n",
              "  <th>x1</th>     <td>    0.0120</td> <td>    0.100</td> <td>    0.120</td> <td> 0.904</td> <td>   -0.183</td> <td>    0.207</td>\n",
              "</tr>\n",
              "<tr>\n",
              "  <th>sigma2</th> <td>    4.6928</td> <td>    0.220</td> <td>   21.300</td> <td> 0.000</td> <td>    4.261</td> <td>    5.125</td>\n",
              "</tr>\n",
              "</table>\n",
              "<table class=\"simpletable\">\n",
              "<tr>\n",
              "  <th>Ljung-Box (L1) (Q):</th>     <td>0.79</td> <th>  Jarque-Bera (JB):  </th> <td>68.57</td>\n",
              "</tr>\n",
              "<tr>\n",
              "  <th>Prob(Q):</th>                <td>0.37</td> <th>  Prob(JB):          </th> <td>0.00</td> \n",
              "</tr>\n",
              "<tr>\n",
              "  <th>Heteroskedasticity (H):</th> <td>0.77</td> <th>  Skew:              </th> <td>0.15</td> \n",
              "</tr>\n",
              "<tr>\n",
              "  <th>Prob(H) (two-sided):</th>    <td>0.10</td> <th>  Kurtosis:          </th> <td>4.83</td> \n",
              "</tr>\n",
              "</table><br/><br/>Warnings:<br/>[1] Covariance matrix calculated using the outer product of gradients (complex-step)."
            ],
            "text/plain": [
              "<class 'statsmodels.iolib.summary.Summary'>\n",
              "\"\"\"\n",
              "                               SARIMAX Results                                \n",
              "==============================================================================\n",
              "Dep. Variable:                 close    No. Observations:                  477\n",
              "Model:                 ARIMA(0, 1, 0)   Log Likelihood               -1043.372\n",
              "Date:                Fri, 04 Mar 2022   AIC                           2090.744\n",
              "Time:                        05:51:24   BIC                           2099.074\n",
              "Sample:                             0   HQIC                          2094.019\n",
              "                                - 477                                         \n",
              "Covariance Type:                  opg                                         \n",
              "==============================================================================\n",
              "                 coef    std err          z      P>|z|      [0.025      0.975]\n",
              "------------------------------------------------------------------------------\n",
              "x1             0.0120      0.100      0.120      0.904      -0.183       0.207\n",
              "sigma2         4.6928      0.220     21.300      0.000       4.261       5.125\n",
              "===================================================================================\n",
              "Ljung-Box (L1) (Q):                   0.79   Jarque-Bera (JB):                68.57\n",
              "Prob(Q):                              0.37   Prob(JB):                         0.00\n",
              "Heteroskedasticity (H):               0.77   Skew:                             0.15\n",
              "Prob(H) (two-sided):                  0.10   Kurtosis:                         4.83\n",
              "===================================================================================\n",
              "\n",
              "Warnings:\n",
              "[1] Covariance matrix calculated using the outer product of gradients (complex-step).\n",
              "\"\"\""
            ]
          },
          "metadata": {},
          "execution_count": 12
        }
      ]
    },
    {
      "cell_type": "code",
      "source": [
        "start=len(train)\n",
        "end=len(train)+len(test)-1\n",
        "end\n",
        "pred=model.predict(start=start,end=end,typ='levels')\n",
        "pred.index=df.index[start:end+1]\n",
        "pred.plot(legend=True)\n",
        "test['close '].plot(legend=True)"
      ],
      "metadata": {
        "colab": {
          "base_uri": "https://localhost:8080/",
          "height": 388
        },
        "id": "c54sxCQ7oMmB",
        "outputId": "5e374343-c49f-4c9e-b4ea-c9cd2401a7be"
      },
      "execution_count": 13,
      "outputs": [
        {
          "output_type": "stream",
          "name": "stderr",
          "text": [
            "/usr/local/lib/python3.7/dist-packages/statsmodels/tsa/base/tsa_model.py:843: ValueWarning: No supported index is available. Prediction results will be given with an integer index beginning at `start`.\n",
            "  data=self.data,\n"
          ]
        },
        {
          "output_type": "execute_result",
          "data": {
            "text/plain": [
              "<matplotlib.axes._subplots.AxesSubplot at 0x7f5fafe69c50>"
            ]
          },
          "metadata": {},
          "execution_count": 13
        },
        {
          "output_type": "display_data",
          "data": {
            "image/png": "[encoded data removed]",
            "text/plain": [
              "<Figure size 432x288 with 1 Axes>"
            ]
          },
          "metadata": {
            "needs_background": "light"
          }
        }
      ]
    },
    {
      "cell_type": "code",
      "source": [
        "# To calculate the error in model\n",
        "from sklearn.metrics import mean_squared_error\n",
        "from math import sqrt\n",
        "rmse = sqrt(mean_squared_error(pred,test['close ']))\n",
        "print(rmse)"
      ],
      "metadata": {
        "colab": {
          "base_uri": "https://localhost:8080/"
        },
        "id": "h5KeQDaopEu_",
        "outputId": "612c565c-de2b-4269-85c2-b89c4d43429e"
      },
      "execution_count": 14,
      "outputs": [
        {
          "output_type": "stream",
          "name": "stdout",
          "text": [
            "3.148418523061275\n"
          ]
        }
      ]
    },
    {
      "cell_type": "code",
      "source": [
        "test['close '].mean()"
      ],
      "metadata": {
        "colab": {
          "base_uri": "https://localhost:8080/"
        },
        "id": "NmxeyM0eq7BF",
        "outputId": "4757911a-962d-41ca-829b-19938880492c"
      },
      "execution_count": 15,
      "outputs": [
        {
          "output_type": "execute_result",
          "data": {
            "text/plain": [
              "125.08913043478262"
            ]
          },
          "metadata": {},
          "execution_count": 15
        }
      ]
    },
    {
      "cell_type": "code",
      "source": [
        "# Now since the rmse is far different from the mean of testing set we go ahead and predict the future values\n",
        "model2 = stats.ARIMA(df['close '], order=(0, 1, 0),trend=\"t\")\n",
        "model2=model2.fit()\n",
        "model2.summary()"
      ],
      "metadata": {
        "colab": {
          "base_uri": "https://localhost:8080/",
          "height": 526
        },
        "id": "BSlE_6U6sWgp",
        "outputId": "9c48c996-2be6-4041-eb4f-afc3944d6915"
      },
      "execution_count": 16,
      "outputs": [
        {
          "output_type": "stream",
          "name": "stderr",
          "text": [
            "/usr/local/lib/python3.7/dist-packages/statsmodels/tsa/base/tsa_model.py:471: ValueWarning: A date index has been provided, but it has no associated frequency information and so will be ignored when e.g. forecasting.\n",
            "  self._init_dates(dates, freq)\n",
            "/usr/local/lib/python3.7/dist-packages/statsmodels/tsa/base/tsa_model.py:471: ValueWarning: A date index has been provided, but it has no associated frequency information and so will be ignored when e.g. forecasting.\n",
            "  self._init_dates(dates, freq)\n",
            "/usr/local/lib/python3.7/dist-packages/statsmodels/tsa/base/tsa_model.py:471: ValueWarning: A date index has been provided, but it has no associated frequency information and so will be ignored when e.g. forecasting.\n",
            "  self._init_dates(dates, freq)\n"
          ]
        },
        {
          "output_type": "execute_result",
          "data": {
            "text/html": [
              "<table class=\"simpletable\">\n",
              "<caption>SARIMAX Results</caption>\n",
              "<tr>\n",
              "  <th>Dep. Variable:</th>        <td>close </td>      <th>  No. Observations:  </th>    <td>500</td>   \n",
              "</tr>\n",
              "<tr>\n",
              "  <th>Model:</th>            <td>ARIMA(0, 1, 0)</td>  <th>  Log Likelihood     </th> <td>-1090.575</td>\n",
              "</tr>\n",
              "<tr>\n",
              "  <th>Date:</th>            <td>Fri, 04 Mar 2022</td> <th>  AIC                </th> <td>2185.149</td> \n",
              "</tr>\n",
              "<tr>\n",
              "  <th>Time:</th>                <td>05:51:24</td>     <th>  BIC                </th> <td>2193.574</td> \n",
              "</tr>\n",
              "<tr>\n",
              "  <th>Sample:</th>                  <td>0</td>        <th>  HQIC               </th> <td>2188.455</td> \n",
              "</tr>\n",
              "<tr>\n",
              "  <th></th>                      <td> - 500</td>      <th>                     </th>     <td> </td>    \n",
              "</tr>\n",
              "<tr>\n",
              "  <th>Covariance Type:</th>        <td>opg</td>       <th>                     </th>     <td> </td>    \n",
              "</tr>\n",
              "</table>\n",
              "<table class=\"simpletable\">\n",
              "<tr>\n",
              "     <td></td>       <th>coef</th>     <th>std err</th>      <th>z</th>      <th>P>|z|</th>  <th>[0.025</th>    <th>0.975]</th>  \n",
              "</tr>\n",
              "<tr>\n",
              "  <th>x1</th>     <td>    0.0057</td> <td>    0.097</td> <td>    0.059</td> <td> 0.953</td> <td>   -0.184</td> <td>    0.195</td>\n",
              "</tr>\n",
              "<tr>\n",
              "  <th>sigma2</th> <td>    4.6328</td> <td>    0.213</td> <td>   21.711</td> <td> 0.000</td> <td>    4.215</td> <td>    5.051</td>\n",
              "</tr>\n",
              "</table>\n",
              "<table class=\"simpletable\">\n",
              "<tr>\n",
              "  <th>Ljung-Box (L1) (Q):</th>     <td>0.52</td> <th>  Jarque-Bera (JB):  </th> <td>68.99</td>\n",
              "</tr>\n",
              "<tr>\n",
              "  <th>Prob(Q):</th>                <td>0.47</td> <th>  Prob(JB):          </th> <td>0.00</td> \n",
              "</tr>\n",
              "<tr>\n",
              "  <th>Heteroskedasticity (H):</th> <td>0.75</td> <th>  Skew:              </th> <td>0.14</td> \n",
              "</tr>\n",
              "<tr>\n",
              "  <th>Prob(H) (two-sided):</th>    <td>0.07</td> <th>  Kurtosis:          </th> <td>4.80</td> \n",
              "</tr>\n",
              "</table><br/><br/>Warnings:<br/>[1] Covariance matrix calculated using the outer product of gradients (complex-step)."
            ],
            "text/plain": [
              "<class 'statsmodels.iolib.summary.Summary'>\n",
              "\"\"\"\n",
              "                               SARIMAX Results                                \n",
              "==============================================================================\n",
              "Dep. Variable:                 close    No. Observations:                  500\n",
              "Model:                 ARIMA(0, 1, 0)   Log Likelihood               -1090.575\n",
              "Date:                Fri, 04 Mar 2022   AIC                           2185.149\n",
              "Time:                        05:51:24   BIC                           2193.574\n",
              "Sample:                             0   HQIC                          2188.455\n",
              "                                - 500                                         \n",
              "Covariance Type:                  opg                                         \n",
              "==============================================================================\n",
              "                 coef    std err          z      P>|z|      [0.025      0.975]\n",
              "------------------------------------------------------------------------------\n",
              "x1             0.0057      0.097      0.059      0.953      -0.184       0.195\n",
              "sigma2         4.6328      0.213     21.711      0.000       4.215       5.051\n",
              "===================================================================================\n",
              "Ljung-Box (L1) (Q):                   0.52   Jarque-Bera (JB):                68.99\n",
              "Prob(Q):                              0.47   Prob(JB):                         0.00\n",
              "Heteroskedasticity (H):               0.75   Skew:                             0.14\n",
              "Prob(H) (two-sided):                  0.07   Kurtosis:                         4.80\n",
              "===================================================================================\n",
              "\n",
              "Warnings:\n",
              "[1] Covariance matrix calculated using the outer product of gradients (complex-step).\n",
              "\"\"\""
            ]
          },
          "metadata": {},
          "execution_count": 16
        }
      ]
    },
    {
      "cell_type": "code",
      "source": [
        "# For future sets\n",
        "df.tail()\n",
        "index_future = pd.date_range(start='2021-12-31',end='2022-01-31')\n",
        "pred = model2.predict(start=len(df),end=len(df)+31,typ='levels').rename(\"Future ARIMA Predictions\")\n",
        "# print(pred)\n",
        "pred.index=index_future\n",
        "print(pred)\n"
      ],
      "metadata": {
        "colab": {
          "base_uri": "https://localhost:8080/"
        },
        "id": "9wV4JLs3tV2n",
        "outputId": "4c84a68b-f55d-4200-8a38-9f20b8f32214"
      },
      "execution_count": 17,
      "outputs": [
        {
          "output_type": "stream",
          "name": "stdout",
          "text": [
            "2021-12-31    124.405706\n",
            "2022-01-01    124.411413\n",
            "2022-01-02    124.417119\n",
            "2022-01-03    124.422826\n",
            "2022-01-04    124.428532\n",
            "2022-01-05    124.434239\n",
            "2022-01-06    124.439945\n",
            "2022-01-07    124.445651\n",
            "2022-01-08    124.451358\n",
            "2022-01-09    124.457064\n",
            "2022-01-10    124.462771\n",
            "2022-01-11    124.468477\n",
            "2022-01-12    124.474183\n",
            "2022-01-13    124.479890\n",
            "2022-01-14    124.485596\n",
            "2022-01-15    124.491303\n",
            "2022-01-16    124.497009\n",
            "2022-01-17    124.502716\n",
            "2022-01-18    124.508422\n",
            "2022-01-19    124.514128\n",
            "2022-01-20    124.519835\n",
            "2022-01-21    124.525541\n",
            "2022-01-22    124.531248\n",
            "2022-01-23    124.536954\n",
            "2022-01-24    124.542661\n",
            "2022-01-25    124.548367\n",
            "2022-01-26    124.554073\n",
            "2022-01-27    124.559780\n",
            "2022-01-28    124.565486\n",
            "2022-01-29    124.571193\n",
            "2022-01-30    124.576899\n",
            "2022-01-31    124.582606\n",
            "Freq: D, Name: Future ARIMA Predictions, dtype: float64\n"
          ]
        },
        {
          "output_type": "stream",
          "name": "stderr",
          "text": [
            "/usr/local/lib/python3.7/dist-packages/statsmodels/tsa/base/tsa_model.py:843: ValueWarning: No supported index is available. Prediction results will be given with an integer index beginning at `start`.\n",
            "  data=self.data,\n"
          ]
        }
      ]
    },
    {
      "cell_type": "code",
      "source": [
        "pred.plot(figsize=(10,10),legend='True')"
      ],
      "metadata": {
        "colab": {
          "base_uri": "https://localhost:8080/",
          "height": 643
        },
        "id": "WzoJeVZxuuNE",
        "outputId": "723a5ad5-510a-4057-a433-e80fd4b18550"
      },
      "execution_count": 18,
      "outputs": [
        {
          "output_type": "execute_result",
          "data": {
            "text/plain": [
              "<matplotlib.axes._subplots.AxesSubplot at 0x7f5fafd95750>"
            ]
          },
          "metadata": {},
          "execution_count": 18
        },
        {
          "output_type": "display_data",
          "data": {
            "image/png": "[encoded data removed]",
            "text/plain": [
              "<Figure size 720x720 with 1 Axes>"
            ]
          },
          "metadata": {
            "needs_background": "light"
          }
        }
      ]
    },
    {
      "cell_type": "code",
      "source": [
        "df1 = df.iloc[-23:]\n",
        "df1['close '].plot(figsize=(12,5),legend=\"True\")\n",
        "pred.plot(figsize=(12,5),legend='True')"
      ],
      "metadata": {
        "colab": {
          "base_uri": "https://localhost:8080/",
          "height": 387
        },
        "id": "y_V9oQI5H9Gb",
        "outputId": "7759f55a-81ec-4c7a-f710-b7399169e288"
      },
      "execution_count": 19,
      "outputs": [
        {
          "output_type": "execute_result",
          "data": {
            "text/plain": [
              "<matplotlib.axes._subplots.AxesSubplot at 0x7f5fafcd6b50>"
            ]
          },
          "metadata": {},
          "execution_count": 19
        },
        {
          "output_type": "display_data",
          "data": {
            "image/png": "[encoded data removed]",
            "text/plain": [
              "<Figure size 864x360 with 1 Axes>"
            ]
          },
          "metadata": {
            "needs_background": "light"
          }
        }
      ]
    },
    {
      "cell_type": "code",
      "source": [
        "actual = test['close '].values\n",
        "forecast = (pred.values[1:len(test['close '])+1])\n",
        "APE = []\n",
        "for day in range(len(actual)):\n",
        "\tper_err = (actual[day] - forecast[day]) / actual[day]\n",
        "\tper_err = abs(per_err)\n",
        "\tAPE.append(per_err)\n",
        "MAPE = sum(APE)/len(APE)\n",
        "print(f'''\n",
        "MAPE : { round(MAPE, 2) }\n",
        "MAPE % : { round(MAPE*100, 2) } %\n",
        "''')\n",
        "# Since the value of MAPE % is less than 3% therefore the prediction model is \n",
        "#accurate"
      ],
      "metadata": {
        "colab": {
          "base_uri": "https://localhost:8080/"
        },
        "id": "apanW8kdYUec",
        "outputId": "404bde83-5609-420f-c8e4-5f263f5d8509"
      },
      "execution_count": 20,
      "outputs": [
        {
          "output_type": "stream",
          "name": "stdout",
          "text": [
            "\n",
            "MAPE : 0.02\n",
            "MAPE % : 1.53 %\n",
            "\n"
          ]
        }
      ]
    }
  ]
}